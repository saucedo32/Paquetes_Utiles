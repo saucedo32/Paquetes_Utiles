{
 "cells": [
  {
   "cell_type": "code",
   "execution_count": 1,
   "metadata": {},
   "outputs": [],
   "source": [
    "import os\n",
    "import pandas as pd"
   ]
  },
  {
   "cell_type": "code",
   "execution_count": 2,
   "metadata": {},
   "outputs": [],
   "source": [
    "# Definimos la funcion\n",
    "# A partir de una lista pasada se crean los directorios vacios en una ruta especifica\n",
    "def crear_carpetas(lista_dirs, path):\n",
    "    for dir in lista_dirs:\n",
    "        if not os.path.exists(path + dir):\n",
    "            os.makedirs(path + dir)"
   ]
  },
  {
   "cell_type": "markdown",
   "metadata": {},
   "source": [
    "# Creamos a partir de una Lista y una carpeta destino"
   ]
  },
  {
   "cell_type": "code",
   "execution_count": 3,
   "metadata": {},
   "outputs": [],
   "source": [
    "ruta_creacion = 'C:/Users/lsaucedo/Desktop/'"
   ]
  },
  {
   "cell_type": "code",
   "execution_count": 4,
   "metadata": {},
   "outputs": [],
   "source": [
    "lista_direcciones = [\"A\", \"B\", \"C\"]"
   ]
  },
  {
   "cell_type": "code",
   "execution_count": 34,
   "metadata": {},
   "outputs": [],
   "source": [
    "crear_carpetas(lista_direcciones, ruta_creacion)"
   ]
  },
  {
   "cell_type": "code",
   "execution_count": 35,
   "metadata": {},
   "outputs": [],
   "source": []
  },
  {
   "cell_type": "markdown",
   "metadata": {},
   "source": [
    "# Creamos a partir de dos columas"
   ]
  },
  {
   "cell_type": "code",
   "execution_count": 10,
   "metadata": {},
   "outputs": [],
   "source": [
    "df_cols = pd.read_excel('C:/Users/lsaucedo/Desktop/lista_carpetas.xlsx')\n",
    "ruta_creacion_c = 'C:/Users/lsaucedo/Desktop/A/'\n",
    "ruta_creacion_s = 'C:/Users/lsaucedo/Desktop/B/'\n",
    "\n",
    "# Guardo como listas\n",
    "lista_c = df_cols[\"Lista 1\"].tolist()\n",
    "lista_s = df_cols[\"Lista 2\"].tolist()"
   ]
  },
  {
   "cell_type": "code",
   "execution_count": 11,
   "metadata": {},
   "outputs": [],
   "source": [
    "# Creamos las carpetas:\n",
    "crear_carpetas(lista_c, ruta_creacion_c)\n",
    "crear_carpetas(lista_s, ruta_creacion_s)"
   ]
  },
  {
   "cell_type": "code",
   "execution_count": null,
   "metadata": {},
   "outputs": [],
   "source": []
  }
 ],
 "metadata": {
  "kernelspec": {
   "display_name": "Python 3.9.7 ('base')",
   "language": "python",
   "name": "python3"
  },
  "language_info": {
   "codemirror_mode": {
    "name": "ipython",
    "version": 3
   },
   "file_extension": ".py",
   "mimetype": "text/x-python",
   "name": "python",
   "nbconvert_exporter": "python",
   "pygments_lexer": "ipython3",
   "version": "3.9.7"
  },
  "orig_nbformat": 4,
  "vscode": {
   "interpreter": {
    "hash": "562c9c567e50c33fd32533d1041799ab9ec09a9cf2f2e4c1c846bbf665f39d1b"
   }
  }
 },
 "nbformat": 4,
 "nbformat_minor": 2
}
