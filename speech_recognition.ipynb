{
 "cells": [
  {
   "cell_type": "markdown",
   "id": "e25a1e4e",
   "metadata": {},
   "source": [
    "# Lectura de audio para extraer el texto"
   ]
  },
  {
   "cell_type": "code",
   "execution_count": 1,
   "id": "bc1395d5",
   "metadata": {},
   "outputs": [],
   "source": [
    "# Instalo el paquete para transformar voz a texto\n",
    "# pip install SpeechRecognition\n",
    "import speech_recognition as sr"
   ]
  },
  {
   "cell_type": "code",
   "execution_count": 5,
   "id": "b2afd8b5",
   "metadata": {},
   "outputs": [],
   "source": [
    "audio = \"./files/oog_wapp.wav\""
   ]
  },
  {
   "cell_type": "code",
   "execution_count": 6,
   "id": "881cec45",
   "metadata": {},
   "outputs": [],
   "source": [
    "# Iniciamos el reconocimiento de voz\n",
    "re = sr.Recognizer()"
   ]
  },
  {
   "cell_type": "code",
   "execution_count": 7,
   "id": "8cd3610f",
   "metadata": {},
   "outputs": [
    {
     "name": "stdout",
     "output_type": "stream",
     "text": [
      "té para calentar el cuerpo bueno hace mucho frío\n"
     ]
    }
   ],
   "source": [
    "# Realizamos la traducción:\n",
    "with sr.AudioFile(audio) as source:\n",
    "    info_audio = re.record(source)\n",
    "    texto = re.recognize_google(info_audio, language = \"es-ES\")\n",
    "    print(texto)"
   ]
  },
  {
   "cell_type": "code",
   "execution_count": null,
   "id": "e246243c",
   "metadata": {},
   "outputs": [],
   "source": []
  },
  {
   "cell_type": "code",
   "execution_count": 8,
   "id": "1f504117",
   "metadata": {},
   "outputs": [],
   "source": [
    "audio2 = \"./files/un_cartel_que_diga.wav\""
   ]
  },
  {
   "cell_type": "code",
   "execution_count": 9,
   "id": "9ee46118",
   "metadata": {},
   "outputs": [
    {
     "name": "stdout",
     "output_type": "stream",
     "text": [
      "es la última vez que voy al hospital cuando todavía puedo caminar por mis medios\n"
     ]
    }
   ],
   "source": [
    "# Iniciamos el reconocimiento de voz\n",
    "re = sr.Recognizer()\n",
    "\n",
    "# Realizamos la traducción:\n",
    "with sr.AudioFile(audio2) as source:\n",
    "    info_audio = re.record(source)\n",
    "    texto = re.recognize_google(info_audio, language = \"es-ES\")\n",
    "    print(texto)"
   ]
  },
  {
   "cell_type": "code",
   "execution_count": null,
   "id": "976d51ba",
   "metadata": {},
   "outputs": [],
   "source": []
  },
  {
   "cell_type": "code",
   "execution_count": null,
   "id": "c88daf14",
   "metadata": {},
   "outputs": [],
   "source": []
  },
  {
   "cell_type": "code",
   "execution_count": 29,
   "id": "737ca016",
   "metadata": {},
   "outputs": [
    {
     "name": "stdout",
     "output_type": "stream",
     "text": [
      "Fíjate que a veces hay tomate que están maduros que yo ya los venden para salsa los venden más barato fíjate eso sino no creo que en casa y lata de tomate si no compramos No te preocupes y la carne Fíjate que carne tenés ganas de comerse un pedazo de carne o la carne picada como vos quieras como medio kilo kulo que me re bien\n"
     ]
    }
   ],
   "source": [
    "audio3 = \"iru_ruido.wav\"\n",
    "\n",
    "# Iniciamos el reconocimiento de voz\n",
    "re = sr.Recognizer()\n",
    "\n",
    "# Realizamos la traducción:\n",
    "with sr.AudioFile(audio3) as source:\n",
    "    info_audio = re.record(source)\n",
    "    texto = re.recognize_google(info_audio, language = \"es-ES\")\n",
    "    print(texto)"
   ]
  },
  {
   "cell_type": "code",
   "execution_count": null,
   "id": "a66fcb40",
   "metadata": {},
   "outputs": [],
   "source": []
  },
  {
   "cell_type": "code",
   "execution_count": null,
   "id": "cc435115",
   "metadata": {},
   "outputs": [],
   "source": []
  },
  {
   "cell_type": "code",
   "execution_count": null,
   "id": "60c0436b",
   "metadata": {},
   "outputs": [],
   "source": []
  }
 ],
 "metadata": {
  "interpreter": {
   "hash": "562c9c567e50c33fd32533d1041799ab9ec09a9cf2f2e4c1c846bbf665f39d1b"
  },
  "kernelspec": {
   "display_name": "Python 3.9.7 ('base')",
   "language": "python",
   "name": "python3"
  },
  "language_info": {
   "codemirror_mode": {
    "name": "ipython",
    "version": 3
   },
   "file_extension": ".py",
   "mimetype": "text/x-python",
   "name": "python",
   "nbconvert_exporter": "python",
   "pygments_lexer": "ipython3",
   "version": "3.9.7"
  }
 },
 "nbformat": 4,
 "nbformat_minor": 5
}
